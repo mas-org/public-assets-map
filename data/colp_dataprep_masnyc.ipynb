{
  "cells": [
    {
      "cell_type": "code",
      "execution_count": null,
      "metadata": {
        "id": "d38e1d8b"
      },
      "outputs": [],
      "source": [
        "# import packages\n",
        "import pandas as pd\n",
        "import numpy as np\n",
        "from datetime import datetime\n",
        "\n",
        "# define date format to use in file name when exporting\n",
        "date = datetime.now().strftime('%Y-%m-%d')\n",
        "\n",
        "# define path in user folder for import/export\n",
        "path = '///'"
      ],
      "id": "d38e1d8b"
    },
    {
      "cell_type": "code",
      "source": [
        "in1 = pd.read_csv(path + 'colp_20231221.csv', usecols=['BBL', 'ADDRESS', 'PARCELNAME', 'AGENCY', 'USECODE', 'USETYPE', 'OWNERSHIP',\n",
        "                                                       'CATEGORY', 'EXPANDCAT', 'EXCATDESC', 'LEASED', 'FINALCOM', 'AGREEMENT'])\n",
        "\n",
        "in2 = pd.read_csv(path + 'UseCodes.csv', usecols=['USECODE', 'useCat']) # this is a custom lookup for simplifying use categories for carto map widget\n",
        "\n",
        "df = pd.merge(in1, in2, on ='USECODE', how='left')"
      ],
      "metadata": {
        "id": "7DRnNWWUiHsc"
      },
      "id": "7DRnNWWUiHsc",
      "execution_count": null,
      "outputs": []
    },
    {
      "cell_type": "code",
      "source": [
        "df.columns = df.columns.str.lower()\n",
        "\n",
        "df[['bbl', 'category', 'expandcat']] = df[['bbl', 'category', 'expandcat']].astype('Int64')\n",
        "\n",
        "# group information by bbl\n",
        "df1 = df.astype(str).groupby('bbl', sort=True, as_index=False).agg(lambda x: ', '.join(x.unique()))\n",
        "df1.replace(['nan'], np.nan, inplace=True)\n",
        "df1.reset_index()\n",
        "df1.shape"
      ],
      "metadata": {
        "id": "T8qI2bxCYpq0",
        "colab": {
          "base_uri": "https://localhost:8080/"
        },
        "outputId": "463af1dd-a43c-453f-c4e7-839340274238"
      },
      "id": "T8qI2bxCYpq0",
      "execution_count": null,
      "outputs": [
        {
          "output_type": "execute_result",
          "data": {
            "text/plain": [
              "(15371, 14)"
            ]
          },
          "metadata": {},
          "execution_count": 3
        }
      ]
    },
    {
      "cell_type": "code",
      "source": [
        "df1['agreement'].replace({\n",
        "    'L': 'Leased to Another Entity, Long-term Agreement',\n",
        "    'S': 'Leased to Another Entity, Short-term Agreement',\n",
        "    'M': 'Leased to Another Entity, Long & Short-term Agreement(s)',\n",
        "    'GS': 'Leased to Another Entity, Long & Short-term Agreement(s)',\n",
        "    'SG': 'Leased to Another Entity, Long & Short-term Agreement(s)',\n",
        "    'SM': 'Leased to Another Entity, Long & Short-term Agreement(s)'}, inplace=True)\n",
        "\n",
        "df1['leased'].replace({'L': 'Leased by Agency'}, inplace=True)\n",
        "df1['finalcom'].replace({'D': 'Potential Disposition by City'}, inplace=True)\n",
        "\n",
        "df1['excat'] = df1['expandcat'].astype(str).map({\n",
        "    '1': 'Office use',\n",
        "    '3': 'Cultural & recreational use',\n",
        "    '7': 'Maintenance, storage & infrastructure',\n",
        "    '6': 'Leased to a private tenant',\n",
        "    '9': 'Property with a residential use',\n",
        "    '8': 'Property with no use',\n",
        "    '2': 'Other',\n",
        "    '4': 'Other',\n",
        "    '5': 'Other'}).fillna('Multiple Uses Onsite')\n",
        "\n",
        "propStatus_col = ['leased', 'finalcom', 'agreement']\n",
        "df1[propStatus_col] = df1[propStatus_col].replace(['nan', ', ', ' ,'], '', regex=True)\n",
        "\n",
        "df1['numagency'] = df1['agency'].str.count(\",\") + 1"
      ],
      "metadata": {
        "id": "ZpYWfvsStD5j"
      },
      "id": "ZpYWfvsStD5j",
      "execution_count": null,
      "outputs": []
    },
    {
      "cell_type": "code",
      "source": [
        "# join pluto data\n",
        "in3 = pd.read_csv(path + 'pluto_23v3_1.csv', usecols=['bbl', 'borough', 'cd', 'council', 'ownername',\n",
        "                                                      'lotarea', 'numbldgs', 'yearbuilt', 'histdist', 'version',\n",
        "                                                      'zonedist1', 'zonedist2', 'zonedist3', 'zonedist4', 'unitsres', 'unitstotal'], low_memory=False)\n",
        "\n",
        "df1['bbl'] = df1['bbl'].astype('Int64')\n",
        "in3[['bbl', 'cd', 'council', 'unitsres', 'unitstotal']] = in3[['bbl', 'cd', 'council', 'unitsres', 'unitstotal']].astype('Int64')\n",
        "\n",
        "df2 = pd.merge(df1, in3, on='bbl', how='left')\n",
        "\n",
        "df2['cmtyd'] = df2['borough'].str.cat(df2['cd'].astype(str).str[1:], sep='')\n",
        "df2['zone'] = df2[['zonedist1', 'zonedist2', 'zonedist3', 'zonedist4']].stack().groupby(level=0).agg(', '.join)\n",
        "df2['units'] = df2['unitstotal'].astype(str) + \" Total (\" + df2['unitsres'].astype(str) + \" Residential)\"\n",
        "\n",
        "df2.usetype = df2.usetype.str.title()\n",
        "df2.usecat = df2.usecat.str.title()\n",
        "\n",
        "df2.drop(['borough','cd','zonedist1', 'zonedist2', 'zonedist3', 'zonedist4', 'unitsres', 'unitstotal'], axis=1, inplace=True)"
      ],
      "metadata": {
        "id": "S36nxq1Afzpn"
      },
      "id": "S36nxq1Afzpn",
      "execution_count": null,
      "outputs": []
    },
    {
      "cell_type": "code",
      "execution_count": null,
      "metadata": {
        "id": "b6d4b165"
      },
      "outputs": [],
      "source": [
        "# export\n",
        "df2.to_csv(path + 'colp2023_mas-edit_' + date + '.csv', encoding='utf-8')"
      ],
      "id": "b6d4b165"
    }
  ],
  "metadata": {
    "colab": {
      "provenance": []
    },
    "kernelspec": {
      "display_name": "Python 3 (ipykernel)",
      "language": "python",
      "name": "python3"
    },
    "language_info": {
      "codemirror_mode": {
        "name": "ipython",
        "version": 3
      },
      "file_extension": ".py",
      "mimetype": "text/x-python",
      "name": "python",
      "nbconvert_exporter": "python",
      "pygments_lexer": "ipython3",
      "version": "3.11.5"
    }
  },
  "nbformat": 4,
  "nbformat_minor": 5
}